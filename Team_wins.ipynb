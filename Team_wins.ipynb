{
 "cells": [
  {
   "cell_type": "code",
   "execution_count": 2,
   "metadata": {},
   "outputs": [],
   "source": [
    "import pandas as pd \n",
    "import numpy as np\n",
    "import matplotlib.pyplot as plt\n",
    "import seaborn as sns\n",
    "from sklearn.model_selection import train_test_split, GridSearchCV\n",
    "from sklearn.preprocessing import  OneHotEncoder, StandardScaler\n",
    "from sklearn.ensemble import RandomForestRegressor\n",
    "from sklearn.neighbors import KNeighborsRegressor"
   ]
  },
  {
   "cell_type": "code",
   "execution_count": 3,
   "metadata": {},
   "outputs": [],
   "source": [
    "constructor_standings= pd.read_csv('./data_files/constructor_standings.csv')\n",
    "constructors = pd.read_csv('./data_files/constructors.csv')\n",
    "races = pd.read_csv('./data_files/races.csv')"
   ]
  },
  {
   "cell_type": "code",
   "execution_count": 4,
   "metadata": {},
   "outputs": [
    {
     "data": {
      "text/html": [
       "<div>\n",
       "<style scoped>\n",
       "    .dataframe tbody tr th:only-of-type {\n",
       "        vertical-align: middle;\n",
       "    }\n",
       "\n",
       "    .dataframe tbody tr th {\n",
       "        vertical-align: top;\n",
       "    }\n",
       "\n",
       "    .dataframe thead th {\n",
       "        text-align: right;\n",
       "    }\n",
       "</style>\n",
       "<table border=\"1\" class=\"dataframe\">\n",
       "  <thead>\n",
       "    <tr style=\"text-align: right;\">\n",
       "      <th></th>\n",
       "      <th>constructorStandingsId</th>\n",
       "      <th>raceId</th>\n",
       "      <th>constructorId</th>\n",
       "      <th>points</th>\n",
       "      <th>position</th>\n",
       "      <th>positionText</th>\n",
       "      <th>wins</th>\n",
       "    </tr>\n",
       "  </thead>\n",
       "  <tbody>\n",
       "    <tr>\n",
       "      <th>0</th>\n",
       "      <td>1</td>\n",
       "      <td>18</td>\n",
       "      <td>1</td>\n",
       "      <td>14.0</td>\n",
       "      <td>1</td>\n",
       "      <td>1</td>\n",
       "      <td>1</td>\n",
       "    </tr>\n",
       "    <tr>\n",
       "      <th>1</th>\n",
       "      <td>2</td>\n",
       "      <td>18</td>\n",
       "      <td>2</td>\n",
       "      <td>8.0</td>\n",
       "      <td>3</td>\n",
       "      <td>3</td>\n",
       "      <td>0</td>\n",
       "    </tr>\n",
       "    <tr>\n",
       "      <th>2</th>\n",
       "      <td>3</td>\n",
       "      <td>18</td>\n",
       "      <td>3</td>\n",
       "      <td>9.0</td>\n",
       "      <td>2</td>\n",
       "      <td>2</td>\n",
       "      <td>0</td>\n",
       "    </tr>\n",
       "    <tr>\n",
       "      <th>3</th>\n",
       "      <td>4</td>\n",
       "      <td>18</td>\n",
       "      <td>4</td>\n",
       "      <td>5.0</td>\n",
       "      <td>4</td>\n",
       "      <td>4</td>\n",
       "      <td>0</td>\n",
       "    </tr>\n",
       "    <tr>\n",
       "      <th>4</th>\n",
       "      <td>5</td>\n",
       "      <td>18</td>\n",
       "      <td>5</td>\n",
       "      <td>2.0</td>\n",
       "      <td>5</td>\n",
       "      <td>5</td>\n",
       "      <td>0</td>\n",
       "    </tr>\n",
       "    <tr>\n",
       "      <th>...</th>\n",
       "      <td>...</td>\n",
       "      <td>...</td>\n",
       "      <td>...</td>\n",
       "      <td>...</td>\n",
       "      <td>...</td>\n",
       "      <td>...</td>\n",
       "      <td>...</td>\n",
       "    </tr>\n",
       "    <tr>\n",
       "      <th>12711</th>\n",
       "      <td>27938</td>\n",
       "      <td>1074</td>\n",
       "      <td>210</td>\n",
       "      <td>0.0</td>\n",
       "      <td>6</td>\n",
       "      <td>-</td>\n",
       "      <td>0</td>\n",
       "    </tr>\n",
       "    <tr>\n",
       "      <th>12712</th>\n",
       "      <td>27939</td>\n",
       "      <td>1074</td>\n",
       "      <td>1</td>\n",
       "      <td>0.0</td>\n",
       "      <td>7</td>\n",
       "      <td>-</td>\n",
       "      <td>0</td>\n",
       "    </tr>\n",
       "    <tr>\n",
       "      <th>12713</th>\n",
       "      <td>27940</td>\n",
       "      <td>1074</td>\n",
       "      <td>131</td>\n",
       "      <td>0.0</td>\n",
       "      <td>8</td>\n",
       "      <td>-</td>\n",
       "      <td>0</td>\n",
       "    </tr>\n",
       "    <tr>\n",
       "      <th>12714</th>\n",
       "      <td>27941</td>\n",
       "      <td>1074</td>\n",
       "      <td>9</td>\n",
       "      <td>0.0</td>\n",
       "      <td>9</td>\n",
       "      <td>-</td>\n",
       "      <td>0</td>\n",
       "    </tr>\n",
       "    <tr>\n",
       "      <th>12715</th>\n",
       "      <td>27942</td>\n",
       "      <td>1074</td>\n",
       "      <td>3</td>\n",
       "      <td>0.0</td>\n",
       "      <td>10</td>\n",
       "      <td>-</td>\n",
       "      <td>0</td>\n",
       "    </tr>\n",
       "  </tbody>\n",
       "</table>\n",
       "<p>12716 rows × 7 columns</p>\n",
       "</div>"
      ],
      "text/plain": [
       "       constructorStandingsId  raceId  constructorId  points  position  \\\n",
       "0                           1      18              1    14.0         1   \n",
       "1                           2      18              2     8.0         3   \n",
       "2                           3      18              3     9.0         2   \n",
       "3                           4      18              4     5.0         4   \n",
       "4                           5      18              5     2.0         5   \n",
       "...                       ...     ...            ...     ...       ...   \n",
       "12711                   27938    1074            210     0.0         6   \n",
       "12712                   27939    1074              1     0.0         7   \n",
       "12713                   27940    1074            131     0.0         8   \n",
       "12714                   27941    1074              9     0.0         9   \n",
       "12715                   27942    1074              3     0.0        10   \n",
       "\n",
       "      positionText  wins  \n",
       "0                1     1  \n",
       "1                3     0  \n",
       "2                2     0  \n",
       "3                4     0  \n",
       "4                5     0  \n",
       "...            ...   ...  \n",
       "12711            -     0  \n",
       "12712            -     0  \n",
       "12713            -     0  \n",
       "12714            -     0  \n",
       "12715            -     0  \n",
       "\n",
       "[12716 rows x 7 columns]"
      ]
     },
     "execution_count": 4,
     "metadata": {},
     "output_type": "execute_result"
    }
   ],
   "source": [
    "constructor_standings"
   ]
  },
  {
   "cell_type": "code",
   "execution_count": 5,
   "metadata": {},
   "outputs": [],
   "source": [
    "constructors.drop(columns='url', inplace=True)"
   ]
  },
  {
   "cell_type": "code",
   "execution_count": 6,
   "metadata": {},
   "outputs": [],
   "source": [
    "constructors_dict = constructors[['name','constructorId']].set_index('constructorId').to_dict()['name']"
   ]
  },
  {
   "cell_type": "code",
   "execution_count": 7,
   "metadata": {},
   "outputs": [],
   "source": [
    "constructor_standings['Team Name'] = constructor_standings['constructorId'].replace(constructors_dict)"
   ]
  },
  {
   "cell_type": "markdown",
   "metadata": {},
   "source": [
    "### Fixing team names that are under the same parent company just rebranded"
   ]
  },
  {
   "cell_type": "code",
   "execution_count": 8,
   "metadata": {},
   "outputs": [
    {
     "data": {
      "text/html": [
       "<div>\n",
       "<style scoped>\n",
       "    .dataframe tbody tr th:only-of-type {\n",
       "        vertical-align: middle;\n",
       "    }\n",
       "\n",
       "    .dataframe tbody tr th {\n",
       "        vertical-align: top;\n",
       "    }\n",
       "\n",
       "    .dataframe thead th {\n",
       "        text-align: right;\n",
       "    }\n",
       "</style>\n",
       "<table border=\"1\" class=\"dataframe\">\n",
       "  <thead>\n",
       "    <tr style=\"text-align: right;\">\n",
       "      <th></th>\n",
       "      <th>constructorStandingsId</th>\n",
       "      <th>raceId</th>\n",
       "      <th>constructorId</th>\n",
       "      <th>points</th>\n",
       "      <th>position</th>\n",
       "      <th>positionText</th>\n",
       "      <th>wins</th>\n",
       "      <th>Team Name</th>\n",
       "    </tr>\n",
       "  </thead>\n",
       "  <tbody>\n",
       "    <tr>\n",
       "      <th>0</th>\n",
       "      <td>1</td>\n",
       "      <td>18</td>\n",
       "      <td>1</td>\n",
       "      <td>14.0</td>\n",
       "      <td>1</td>\n",
       "      <td>1</td>\n",
       "      <td>1</td>\n",
       "      <td>McLaren</td>\n",
       "    </tr>\n",
       "    <tr>\n",
       "      <th>1</th>\n",
       "      <td>2</td>\n",
       "      <td>18</td>\n",
       "      <td>2</td>\n",
       "      <td>8.0</td>\n",
       "      <td>3</td>\n",
       "      <td>3</td>\n",
       "      <td>0</td>\n",
       "      <td>BMW Sauber</td>\n",
       "    </tr>\n",
       "    <tr>\n",
       "      <th>2</th>\n",
       "      <td>3</td>\n",
       "      <td>18</td>\n",
       "      <td>3</td>\n",
       "      <td>9.0</td>\n",
       "      <td>2</td>\n",
       "      <td>2</td>\n",
       "      <td>0</td>\n",
       "      <td>Williams</td>\n",
       "    </tr>\n",
       "    <tr>\n",
       "      <th>3</th>\n",
       "      <td>4</td>\n",
       "      <td>18</td>\n",
       "      <td>4</td>\n",
       "      <td>5.0</td>\n",
       "      <td>4</td>\n",
       "      <td>4</td>\n",
       "      <td>0</td>\n",
       "      <td>Alpine</td>\n",
       "    </tr>\n",
       "    <tr>\n",
       "      <th>4</th>\n",
       "      <td>5</td>\n",
       "      <td>18</td>\n",
       "      <td>5</td>\n",
       "      <td>2.0</td>\n",
       "      <td>5</td>\n",
       "      <td>5</td>\n",
       "      <td>0</td>\n",
       "      <td>AlphaTauri</td>\n",
       "    </tr>\n",
       "    <tr>\n",
       "      <th>...</th>\n",
       "      <td>...</td>\n",
       "      <td>...</td>\n",
       "      <td>...</td>\n",
       "      <td>...</td>\n",
       "      <td>...</td>\n",
       "      <td>...</td>\n",
       "      <td>...</td>\n",
       "      <td>...</td>\n",
       "    </tr>\n",
       "    <tr>\n",
       "      <th>12711</th>\n",
       "      <td>27938</td>\n",
       "      <td>1074</td>\n",
       "      <td>210</td>\n",
       "      <td>0.0</td>\n",
       "      <td>6</td>\n",
       "      <td>-</td>\n",
       "      <td>0</td>\n",
       "      <td>Haas</td>\n",
       "    </tr>\n",
       "    <tr>\n",
       "      <th>12712</th>\n",
       "      <td>27939</td>\n",
       "      <td>1074</td>\n",
       "      <td>1</td>\n",
       "      <td>0.0</td>\n",
       "      <td>7</td>\n",
       "      <td>-</td>\n",
       "      <td>0</td>\n",
       "      <td>McLaren</td>\n",
       "    </tr>\n",
       "    <tr>\n",
       "      <th>12713</th>\n",
       "      <td>27940</td>\n",
       "      <td>1074</td>\n",
       "      <td>131</td>\n",
       "      <td>0.0</td>\n",
       "      <td>8</td>\n",
       "      <td>-</td>\n",
       "      <td>0</td>\n",
       "      <td>Mercedes</td>\n",
       "    </tr>\n",
       "    <tr>\n",
       "      <th>12714</th>\n",
       "      <td>27941</td>\n",
       "      <td>1074</td>\n",
       "      <td>9</td>\n",
       "      <td>0.0</td>\n",
       "      <td>9</td>\n",
       "      <td>-</td>\n",
       "      <td>0</td>\n",
       "      <td>Red Bull</td>\n",
       "    </tr>\n",
       "    <tr>\n",
       "      <th>12715</th>\n",
       "      <td>27942</td>\n",
       "      <td>1074</td>\n",
       "      <td>3</td>\n",
       "      <td>0.0</td>\n",
       "      <td>10</td>\n",
       "      <td>-</td>\n",
       "      <td>0</td>\n",
       "      <td>Williams</td>\n",
       "    </tr>\n",
       "  </tbody>\n",
       "</table>\n",
       "<p>12716 rows × 8 columns</p>\n",
       "</div>"
      ],
      "text/plain": [
       "       constructorStandingsId  raceId  constructorId  points  position  \\\n",
       "0                           1      18              1    14.0         1   \n",
       "1                           2      18              2     8.0         3   \n",
       "2                           3      18              3     9.0         2   \n",
       "3                           4      18              4     5.0         4   \n",
       "4                           5      18              5     2.0         5   \n",
       "...                       ...     ...            ...     ...       ...   \n",
       "12711                   27938    1074            210     0.0         6   \n",
       "12712                   27939    1074              1     0.0         7   \n",
       "12713                   27940    1074            131     0.0         8   \n",
       "12714                   27941    1074              9     0.0         9   \n",
       "12715                   27942    1074              3     0.0        10   \n",
       "\n",
       "      positionText  wins   Team Name  \n",
       "0                1     1     McLaren  \n",
       "1                3     0  BMW Sauber  \n",
       "2                2     0    Williams  \n",
       "3                4     0      Alpine  \n",
       "4                5     0  AlphaTauri  \n",
       "...            ...   ...         ...  \n",
       "12711            -     0        Haas  \n",
       "12712            -     0     McLaren  \n",
       "12713            -     0    Mercedes  \n",
       "12714            -     0    Red Bull  \n",
       "12715            -     0    Williams  \n",
       "\n",
       "[12716 rows x 8 columns]"
      ]
     },
     "execution_count": 8,
     "metadata": {},
     "output_type": "execute_result"
    }
   ],
   "source": [
    "changed_team_names = {\n",
    "    'Racing Point' :'Aston Martin',\n",
    "    'Force India'  :'Aston Martin',\n",
    "    'Alpine F1 Team' : 'Alpine',\n",
    "    'Renault' : 'Alpine',\n",
    "    'Lotus' : 'Caterham',\n",
    "    'Lotus F1' : 'Caterham',\n",
    "    'Toro Rosso' : 'AlphaTauri',\n",
    "    'Sauber' :'Alfa Romeo',\n",
    "    'Marussia' :'Manor Marussia',\n",
    "    'Virgin' : 'Manor Marussia',\n",
    "    'Haas F1 Team' : 'Haas'\n",
    "}\n",
    "constructor_standings['Team Name'].replace(changed_team_names, inplace=True)\n",
    "constructor_standings"
   ]
  },
  {
   "cell_type": "markdown",
   "metadata": {},
   "source": [
    "#### Only the current 10 teams parcipating in formula one"
   ]
  },
  {
   "cell_type": "code",
   "execution_count": 9,
   "metadata": {},
   "outputs": [],
   "source": [
    "current_teams = ['Ferrari','McLaren','Red Bull','Mercedes','Aston Martin','Williams','Alpine','AlphaTauri','Alfa Romeo','Haas']\n",
    "constructor_standings = constructor_standings[constructor_standings['Team Name'].isin(current_teams)]"
   ]
  },
  {
   "cell_type": "code",
   "execution_count": 10,
   "metadata": {},
   "outputs": [
    {
     "data": {
      "text/html": [
       "<div>\n",
       "<style scoped>\n",
       "    .dataframe tbody tr th:only-of-type {\n",
       "        vertical-align: middle;\n",
       "    }\n",
       "\n",
       "    .dataframe tbody tr th {\n",
       "        vertical-align: top;\n",
       "    }\n",
       "\n",
       "    .dataframe thead th {\n",
       "        text-align: right;\n",
       "    }\n",
       "</style>\n",
       "<table border=\"1\" class=\"dataframe\">\n",
       "  <thead>\n",
       "    <tr style=\"text-align: right;\">\n",
       "      <th></th>\n",
       "      <th>constructorStandingsId</th>\n",
       "      <th>raceId</th>\n",
       "      <th>constructorId</th>\n",
       "      <th>points</th>\n",
       "      <th>position</th>\n",
       "      <th>positionText</th>\n",
       "      <th>wins</th>\n",
       "      <th>Team Name</th>\n",
       "    </tr>\n",
       "  </thead>\n",
       "  <tbody>\n",
       "    <tr>\n",
       "      <th>0</th>\n",
       "      <td>1</td>\n",
       "      <td>18</td>\n",
       "      <td>1</td>\n",
       "      <td>14.0</td>\n",
       "      <td>1</td>\n",
       "      <td>1</td>\n",
       "      <td>1</td>\n",
       "      <td>McLaren</td>\n",
       "    </tr>\n",
       "    <tr>\n",
       "      <th>2</th>\n",
       "      <td>3</td>\n",
       "      <td>18</td>\n",
       "      <td>3</td>\n",
       "      <td>9.0</td>\n",
       "      <td>2</td>\n",
       "      <td>2</td>\n",
       "      <td>0</td>\n",
       "      <td>Williams</td>\n",
       "    </tr>\n",
       "    <tr>\n",
       "      <th>3</th>\n",
       "      <td>4</td>\n",
       "      <td>18</td>\n",
       "      <td>4</td>\n",
       "      <td>5.0</td>\n",
       "      <td>4</td>\n",
       "      <td>4</td>\n",
       "      <td>0</td>\n",
       "      <td>Alpine</td>\n",
       "    </tr>\n",
       "    <tr>\n",
       "      <th>4</th>\n",
       "      <td>5</td>\n",
       "      <td>18</td>\n",
       "      <td>5</td>\n",
       "      <td>2.0</td>\n",
       "      <td>5</td>\n",
       "      <td>5</td>\n",
       "      <td>0</td>\n",
       "      <td>AlphaTauri</td>\n",
       "    </tr>\n",
       "    <tr>\n",
       "      <th>5</th>\n",
       "      <td>6</td>\n",
       "      <td>18</td>\n",
       "      <td>6</td>\n",
       "      <td>1.0</td>\n",
       "      <td>6</td>\n",
       "      <td>6</td>\n",
       "      <td>0</td>\n",
       "      <td>Ferrari</td>\n",
       "    </tr>\n",
       "    <tr>\n",
       "      <th>...</th>\n",
       "      <td>...</td>\n",
       "      <td>...</td>\n",
       "      <td>...</td>\n",
       "      <td>...</td>\n",
       "      <td>...</td>\n",
       "      <td>...</td>\n",
       "      <td>...</td>\n",
       "      <td>...</td>\n",
       "    </tr>\n",
       "    <tr>\n",
       "      <th>12711</th>\n",
       "      <td>27938</td>\n",
       "      <td>1074</td>\n",
       "      <td>210</td>\n",
       "      <td>0.0</td>\n",
       "      <td>6</td>\n",
       "      <td>-</td>\n",
       "      <td>0</td>\n",
       "      <td>Haas</td>\n",
       "    </tr>\n",
       "    <tr>\n",
       "      <th>12712</th>\n",
       "      <td>27939</td>\n",
       "      <td>1074</td>\n",
       "      <td>1</td>\n",
       "      <td>0.0</td>\n",
       "      <td>7</td>\n",
       "      <td>-</td>\n",
       "      <td>0</td>\n",
       "      <td>McLaren</td>\n",
       "    </tr>\n",
       "    <tr>\n",
       "      <th>12713</th>\n",
       "      <td>27940</td>\n",
       "      <td>1074</td>\n",
       "      <td>131</td>\n",
       "      <td>0.0</td>\n",
       "      <td>8</td>\n",
       "      <td>-</td>\n",
       "      <td>0</td>\n",
       "      <td>Mercedes</td>\n",
       "    </tr>\n",
       "    <tr>\n",
       "      <th>12714</th>\n",
       "      <td>27941</td>\n",
       "      <td>1074</td>\n",
       "      <td>9</td>\n",
       "      <td>0.0</td>\n",
       "      <td>9</td>\n",
       "      <td>-</td>\n",
       "      <td>0</td>\n",
       "      <td>Red Bull</td>\n",
       "    </tr>\n",
       "    <tr>\n",
       "      <th>12715</th>\n",
       "      <td>27942</td>\n",
       "      <td>1074</td>\n",
       "      <td>3</td>\n",
       "      <td>0.0</td>\n",
       "      <td>10</td>\n",
       "      <td>-</td>\n",
       "      <td>0</td>\n",
       "      <td>Williams</td>\n",
       "    </tr>\n",
       "  </tbody>\n",
       "</table>\n",
       "<p>4915 rows × 8 columns</p>\n",
       "</div>"
      ],
      "text/plain": [
       "       constructorStandingsId  raceId  constructorId  points  position  \\\n",
       "0                           1      18              1    14.0         1   \n",
       "2                           3      18              3     9.0         2   \n",
       "3                           4      18              4     5.0         4   \n",
       "4                           5      18              5     2.0         5   \n",
       "5                           6      18              6     1.0         6   \n",
       "...                       ...     ...            ...     ...       ...   \n",
       "12711                   27938    1074            210     0.0         6   \n",
       "12712                   27939    1074              1     0.0         7   \n",
       "12713                   27940    1074            131     0.0         8   \n",
       "12714                   27941    1074              9     0.0         9   \n",
       "12715                   27942    1074              3     0.0        10   \n",
       "\n",
       "      positionText  wins   Team Name  \n",
       "0                1     1     McLaren  \n",
       "2                2     0    Williams  \n",
       "3                4     0      Alpine  \n",
       "4                5     0  AlphaTauri  \n",
       "5                6     0     Ferrari  \n",
       "...            ...   ...         ...  \n",
       "12711            -     0        Haas  \n",
       "12712            -     0     McLaren  \n",
       "12713            -     0    Mercedes  \n",
       "12714            -     0    Red Bull  \n",
       "12715            -     0    Williams  \n",
       "\n",
       "[4915 rows x 8 columns]"
      ]
     },
     "execution_count": 10,
     "metadata": {},
     "output_type": "execute_result"
    }
   ],
   "source": [
    "constructor_standings"
   ]
  },
  {
   "cell_type": "code",
   "execution_count": 11,
   "metadata": {},
   "outputs": [],
   "source": [
    "raceId_years = races[['raceId', 'year']].set_index('raceId').to_dict()['year']"
   ]
  },
  {
   "cell_type": "markdown",
   "metadata": {},
   "source": [
    "adding year column for ease of separation and removing 2022 since that season has not started at current time"
   ]
  },
  {
   "cell_type": "code",
   "execution_count": 12,
   "metadata": {},
   "outputs": [
    {
     "name": "stderr",
     "output_type": "stream",
     "text": [
      "<ipython-input-12-3fba8298a30a>:1: SettingWithCopyWarning: \n",
      "A value is trying to be set on a copy of a slice from a DataFrame.\n",
      "Try using .loc[row_indexer,col_indexer] = value instead\n",
      "\n",
      "See the caveats in the documentation: https://pandas.pydata.org/pandas-docs/stable/user_guide/indexing.html#returning-a-view-versus-a-copy\n",
      "  constructor_standings['Year'] = constructor_standings['raceId'].replace(raceId_years)\n"
     ]
    }
   ],
   "source": [
    "constructor_standings['Year'] = constructor_standings['raceId'].replace(raceId_years)\n",
    "constructor_standings = constructor_standings[constructor_standings['Year'] != 2022]"
   ]
  },
  {
   "cell_type": "markdown",
   "metadata": {},
   "source": [
    "The best way to keep the values even between each team is to track only the last 10 years.\\\n",
    "It would be unfair to track farrari vs haas when farrari have been competing since the 1950s and haas only joined in 2016."
   ]
  },
  {
   "cell_type": "code",
   "execution_count": 13,
   "metadata": {},
   "outputs": [],
   "source": [
    "constructor_standings.drop_duplicates(['Year','Team Name'], keep='last').sort_values(by='Year')\n",
    "constructor_standings = constructor_standings[constructor_standings['Year'] >=2010]"
   ]
  },
  {
   "cell_type": "code",
   "execution_count": 14,
   "metadata": {},
   "outputs": [
    {
     "data": {
      "text/plain": [
       "Williams        237\n",
       "Red Bull        237\n",
       "Aston Martin    237\n",
       "McLaren         237\n",
       "Mercedes        237\n",
       "AlphaTauri      237\n",
       "Ferrari         237\n",
       "Alfa Romeo      236\n",
       "Alpine          160\n",
       "Haas            122\n",
       "Name: Team Name, dtype: int64"
      ]
     },
     "execution_count": 14,
     "metadata": {},
     "output_type": "execute_result"
    }
   ],
   "source": [
    "constructor_standings['Team Name'].value_counts()"
   ]
  },
  {
   "cell_type": "markdown",
   "metadata": {},
   "source": [
    "Final Cleaning for model predictions"
   ]
  },
  {
   "cell_type": "code",
   "execution_count": 15,
   "metadata": {},
   "outputs": [
    {
     "data": {
      "text/html": [
       "<div>\n",
       "<style scoped>\n",
       "    .dataframe tbody tr th:only-of-type {\n",
       "        vertical-align: middle;\n",
       "    }\n",
       "\n",
       "    .dataframe tbody tr th {\n",
       "        vertical-align: top;\n",
       "    }\n",
       "\n",
       "    .dataframe thead th {\n",
       "        text-align: right;\n",
       "    }\n",
       "</style>\n",
       "<table border=\"1\" class=\"dataframe\">\n",
       "  <thead>\n",
       "    <tr style=\"text-align: right;\">\n",
       "      <th></th>\n",
       "      <th>points</th>\n",
       "      <th>position</th>\n",
       "      <th>wins</th>\n",
       "      <th>Team Name</th>\n",
       "      <th>Year</th>\n",
       "    </tr>\n",
       "  </thead>\n",
       "  <tbody>\n",
       "    <tr>\n",
       "      <th>10127</th>\n",
       "      <td>43.0</td>\n",
       "      <td>1</td>\n",
       "      <td>1</td>\n",
       "      <td>Ferrari</td>\n",
       "      <td>2010</td>\n",
       "    </tr>\n",
       "    <tr>\n",
       "      <th>10128</th>\n",
       "      <td>21.0</td>\n",
       "      <td>2</td>\n",
       "      <td>0</td>\n",
       "      <td>McLaren</td>\n",
       "      <td>2010</td>\n",
       "    </tr>\n",
       "    <tr>\n",
       "      <th>10129</th>\n",
       "      <td>16.0</td>\n",
       "      <td>4</td>\n",
       "      <td>0</td>\n",
       "      <td>Red Bull</td>\n",
       "      <td>2010</td>\n",
       "    </tr>\n",
       "    <tr>\n",
       "      <th>10130</th>\n",
       "      <td>18.0</td>\n",
       "      <td>3</td>\n",
       "      <td>0</td>\n",
       "      <td>Mercedes</td>\n",
       "      <td>2010</td>\n",
       "    </tr>\n",
       "    <tr>\n",
       "      <th>10131</th>\n",
       "      <td>2.0</td>\n",
       "      <td>5</td>\n",
       "      <td>0</td>\n",
       "      <td>Aston Martin</td>\n",
       "      <td>2010</td>\n",
       "    </tr>\n",
       "    <tr>\n",
       "      <th>...</th>\n",
       "      <td>...</td>\n",
       "      <td>...</td>\n",
       "      <td>...</td>\n",
       "      <td>...</td>\n",
       "      <td>...</td>\n",
       "    </tr>\n",
       "    <tr>\n",
       "      <th>12701</th>\n",
       "      <td>77.0</td>\n",
       "      <td>7</td>\n",
       "      <td>0</td>\n",
       "      <td>Aston Martin</td>\n",
       "      <td>2021</td>\n",
       "    </tr>\n",
       "    <tr>\n",
       "      <th>12702</th>\n",
       "      <td>13.0</td>\n",
       "      <td>9</td>\n",
       "      <td>0</td>\n",
       "      <td>Alfa Romeo</td>\n",
       "      <td>2021</td>\n",
       "    </tr>\n",
       "    <tr>\n",
       "      <th>12703</th>\n",
       "      <td>155.0</td>\n",
       "      <td>5</td>\n",
       "      <td>1</td>\n",
       "      <td>Alpine</td>\n",
       "      <td>2021</td>\n",
       "    </tr>\n",
       "    <tr>\n",
       "      <th>12704</th>\n",
       "      <td>23.0</td>\n",
       "      <td>8</td>\n",
       "      <td>0</td>\n",
       "      <td>Williams</td>\n",
       "      <td>2021</td>\n",
       "    </tr>\n",
       "    <tr>\n",
       "      <th>12705</th>\n",
       "      <td>0.0</td>\n",
       "      <td>10</td>\n",
       "      <td>0</td>\n",
       "      <td>Haas</td>\n",
       "      <td>2021</td>\n",
       "    </tr>\n",
       "  </tbody>\n",
       "</table>\n",
       "<p>2177 rows × 5 columns</p>\n",
       "</div>"
      ],
      "text/plain": [
       "       points  position  wins     Team Name  Year\n",
       "10127    43.0         1     1       Ferrari  2010\n",
       "10128    21.0         2     0       McLaren  2010\n",
       "10129    16.0         4     0      Red Bull  2010\n",
       "10130    18.0         3     0      Mercedes  2010\n",
       "10131     2.0         5     0  Aston Martin  2010\n",
       "...       ...       ...   ...           ...   ...\n",
       "12701    77.0         7     0  Aston Martin  2021\n",
       "12702    13.0         9     0    Alfa Romeo  2021\n",
       "12703   155.0         5     1        Alpine  2021\n",
       "12704    23.0         8     0      Williams  2021\n",
       "12705     0.0        10     0          Haas  2021\n",
       "\n",
       "[2177 rows x 5 columns]"
      ]
     },
     "execution_count": 15,
     "metadata": {},
     "output_type": "execute_result"
    }
   ],
   "source": [
    "constructor_standings.drop(columns=['constructorStandingsId','raceId','constructorId', 'positionText'], inplace=True)\n",
    "constructor_standings"
   ]
  },
  {
   "cell_type": "markdown",
   "metadata": {},
   "source": [
    "Machine Learning Models"
   ]
  },
  {
   "cell_type": "code",
   "execution_count": 16,
   "metadata": {},
   "outputs": [],
   "source": [
    "y = constructor_standings['position']\n",
    "X = constructor_standings.drop(columns='position')"
   ]
  },
  {
   "cell_type": "code",
   "execution_count": 17,
   "metadata": {},
   "outputs": [],
   "source": [
    "X_train, X_test, y_train, y_test  = train_test_split(X, y, random_state=42)"
   ]
  },
  {
   "cell_type": "code",
   "execution_count": 18,
   "metadata": {},
   "outputs": [
    {
     "data": {
      "text/plain": [
       "10166      Mercedes\n",
       "11842        Alpine\n",
       "11397       Ferrari\n",
       "11645      Williams\n",
       "12352       Ferrari\n",
       "            ...    \n",
       "12167      Red Bull\n",
       "11616        Alpine\n",
       "11655      Mercedes\n",
       "11823    Alfa Romeo\n",
       "11342    AlphaTauri\n",
       "Name: Team Name, Length: 1632, dtype: object"
      ]
     },
     "execution_count": 18,
     "metadata": {},
     "output_type": "execute_result"
    }
   ],
   "source": [
    "X_train['Team Name']"
   ]
  },
  {
   "cell_type": "markdown",
   "metadata": {},
   "source": [
    "One hot enconder"
   ]
  },
  {
   "cell_type": "code",
   "execution_count": 19,
   "metadata": {},
   "outputs": [],
   "source": [
    "ohe = OneHotEncoder(handle_unknown='ignore',sparse=False)\n",
    "train_ohe = X_train[['Team Name']]\n",
    "test_ohe = X_test[['Team Name']]\n",
    "\n",
    "train_ohe = ohe.fit_transform(train_ohe)\n",
    "test_ohe = ohe.transform(test_ohe)"
   ]
  },
  {
   "cell_type": "markdown",
   "metadata": {},
   "source": [
    "Standard Scaler"
   ]
  },
  {
   "cell_type": "code",
   "execution_count": 20,
   "metadata": {},
   "outputs": [],
   "source": [
    "scaler = StandardScaler()\n",
    "\n",
    "scaled_train = X_train.drop(columns= 'Team Name')\n",
    "scaled_test = X_test.drop(columns= 'Team Name')\n",
    "\n",
    "scaled_train = scaler.fit_transform(scaled_train)\n",
    "scaled_test = scaler.transform(scaled_test)"
   ]
  },
  {
   "cell_type": "markdown",
   "metadata": {},
   "source": [
    "Concatenate both the ohe and standar scaler"
   ]
  },
  {
   "cell_type": "code",
   "execution_count": 21,
   "metadata": {},
   "outputs": [],
   "source": [
    "X_train = np.concatenate((train_ohe, scaled_train), axis=1)\n",
    "X_test = np.concatenate((test_ohe, scaled_test), axis=1)"
   ]
  },
  {
   "cell_type": "markdown",
   "metadata": {},
   "source": [
    "#### Defualt KNN Regressor"
   ]
  },
  {
   "cell_type": "code",
   "execution_count": 22,
   "metadata": {},
   "outputs": [
    {
     "name": "stdout",
     "output_type": "stream",
     "text": [
      "Train: 0.9614681362940193\n",
      "Test: 0.9503319223741123\n"
     ]
    }
   ],
   "source": [
    "knn  = KNeighborsRegressor()\n",
    "knn.fit(X_train, y_train)\n",
    "\n",
    "print(f'Train: {knn.score(X_train, y_train)}')\n",
    "print(f'Test: {knn.score(X_test, y_test)}')"
   ]
  },
  {
   "cell_type": "markdown",
   "metadata": {},
   "source": [
    "knn gridSearch"
   ]
  },
  {
   "cell_type": "code",
   "execution_count": 23,
   "metadata": {},
   "outputs": [],
   "source": [
    "knn_params = {\n",
    "    'n_neighbors' : [5,10,50,100], \n",
    "    'weights' : ['uniform', 'distance'],\n",
    "    'algorithm' : ['auto','ball_tree', 'kd_tree'], \n",
    "    'p' : [2, 1],\n",
    "    'metric' :['minkowski', 'manhattan', 'euclidean', 'chebyshev']\n",
    "}"
   ]
  },
  {
   "cell_type": "code",
   "execution_count": 24,
   "metadata": {},
   "outputs": [
    {
     "data": {
      "text/plain": [
       "{'algorithm': 'ball_tree',\n",
       " 'metric': 'minkowski',\n",
       " 'n_neighbors': 5,\n",
       " 'p': 1,\n",
       " 'weights': 'distance'}"
      ]
     },
     "execution_count": 24,
     "metadata": {},
     "output_type": "execute_result"
    }
   ],
   "source": [
    "knn_grid = GridSearchCV(KNeighborsRegressor(), param_grid=knn_params)\n",
    "\n",
    "knn_grid.fit(X_train, y_train)\n",
    "\n",
    "knn_grid.best_params_"
   ]
  },
  {
   "cell_type": "markdown",
   "metadata": {},
   "source": [
    "#### KNN Best params"
   ]
  },
  {
   "cell_type": "code",
   "execution_count": 25,
   "metadata": {},
   "outputs": [
    {
     "name": "stdout",
     "output_type": "stream",
     "text": [
      "Train: 0.9934948205147692\n",
      "Test: 0.9542998502680763\n"
     ]
    }
   ],
   "source": [
    "knn  = KNeighborsRegressor(algorithm = 'ball_tree',metric= 'minkowski', n_neighbors= 5, p = 1,weights='distance')\n",
    "knn.fit(X_train, y_train)\n",
    "\n",
    "print(f'Train: {knn.score(X_train, y_train)}')\n",
    "print(f'Test: {knn.score(X_test, y_test)}')"
   ]
  },
  {
   "cell_type": "markdown",
   "metadata": {},
   "source": [
    "#### Defualt Random Forest"
   ]
  },
  {
   "cell_type": "code",
   "execution_count": 26,
   "metadata": {},
   "outputs": [
    {
     "name": "stdout",
     "output_type": "stream",
     "text": [
      "Train: 0.9851055345641683\n",
      "Test: 0.9347005696464059\n"
     ]
    }
   ],
   "source": [
    "rf  = RandomForestRegressor()\n",
    "rf.fit(X_train, y_train)\n",
    "\n",
    "print(f'Train: {rf.score(X_train, y_train)}')\n",
    "print(f'Test: {rf.score(X_test, y_test)}')"
   ]
  },
  {
   "cell_type": "code",
   "execution_count": 27,
   "metadata": {},
   "outputs": [],
   "source": [
    "rf_params = { \n",
    "    'n_estimators' : [50, 100, 150, 200],\n",
    "    'max_features' : ['auto', 'sqrt', 'log2'], \n",
    "    'bootstrap' : [True, False], \n",
    "    'warm_start' : [True, False]\n",
    "}"
   ]
  },
  {
   "cell_type": "markdown",
   "metadata": {},
   "source": [
    "#### GridSearch for Random forest"
   ]
  },
  {
   "cell_type": "code",
   "execution_count": 28,
   "metadata": {},
   "outputs": [
    {
     "data": {
      "text/plain": [
       "{'bootstrap': False,\n",
       " 'max_features': 'sqrt',\n",
       " 'n_estimators': 50,\n",
       " 'warm_start': False}"
      ]
     },
     "execution_count": 28,
     "metadata": {},
     "output_type": "execute_result"
    }
   ],
   "source": [
    "rf_grid = GridSearchCV(RandomForestRegressor(), param_grid=rf_params)\n",
    "\n",
    "rf_grid.fit(X_train, y_train)\n",
    "\n",
    "rf_grid.best_params_"
   ]
  },
  {
   "cell_type": "markdown",
   "metadata": {},
   "source": [
    "##### Random Forest best params"
   ]
  },
  {
   "cell_type": "code",
   "execution_count": 29,
   "metadata": {},
   "outputs": [
    {
     "name": "stdout",
     "output_type": "stream",
     "text": [
      "Train: 0.9936658594894896\n",
      "Test: 0.9437354689626775\n"
     ]
    }
   ],
   "source": [
    "rf  = RandomForestRegressor(bootstrap = False, max_features='log2', n_estimators= 150, warm_start=True)\n",
    "rf.fit(X_train, y_train)\n",
    "\n",
    "print(f'Train: {rf.score(X_train, y_train)}')\n",
    "print(f'Test: {rf.score(X_test, y_test)}')"
   ]
  },
  {
   "cell_type": "code",
   "execution_count": 32,
   "metadata": {},
   "outputs": [
    {
     "data": {
      "image/png": "[encoded data removed]",
      "text/plain": [
       "<Figure size 1440x936 with 2 Axes>"
      ]
     },
     "metadata": {
      "needs_background": "light"
     },
     "output_type": "display_data"
    }
   ],
   "source": [
    "fig = plt.figure(figsize=(20,13))\n",
    "fig.suptitle('Model Score Comparison', fontsize=15)\n",
    "\n",
    "ax1= plt.subplot(221)\n",
    "ax2= plt.subplot(222)\n",
    "\n",
    "\n",
    "\n",
    "ax1.bar(['Train', 'Test'], [rf.score(X_train, y_train), rf.score(X_test, y_test)])\n",
    "ax1.set_title('Random Forest Model')\n",
    "ax1.set_ylabel('Scores')\n",
    "ax1.set_xlabel('Models')\n",
    "ax1.set_ylim(.9,1)\n",
    "\n",
    "ax2.bar(['Train', 'Test'], [knn.score(X_train, y_train), knn.score(X_test, y_test)])\n",
    "ax2.set_title('KNeighbors Model')\n",
    "ax2.set_ylabel('Scores')\n",
    "ax2.set_xlabel('Models')\n",
    "ax2.set_ylim(.9,1)\n",
    "plt.show()\n"
   ]
  },
  {
   "cell_type": "code",
   "execution_count": null,
   "metadata": {},
   "outputs": [],
   "source": []
  }
 ],
 "metadata": {
  "interpreter": {
   "hash": "ae86e1e3cf00bcf9d4c41097730d3c58ce0334d6c45261508081dd2e9b348fbe"
  },
  "kernelspec": {
   "display_name": "Python 3.8.5 64-bit ('base': conda)",
   "language": "python",
   "name": "python3"
  },
  "language_info": {
   "codemirror_mode": {
    "name": "ipython",
    "version": 3
   },
   "file_extension": ".py",
   "mimetype": "text/x-python",
   "name": "python",
   "nbconvert_exporter": "python",
   "pygments_lexer": "ipython3",
   "version": "3.8.5"
  },
  "orig_nbformat": 4
 },
 "nbformat": 4,
 "nbformat_minor": 2
}
